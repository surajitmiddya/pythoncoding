{
 "cells": [
  {
   "cell_type": "code",
   "execution_count": 42,
   "id": "adcee8d9-18bf-43eb-992d-8239d6775d7b",
   "metadata": {},
   "outputs": [],
   "source": [
    "# Q.1) Answer: def, a keyword, is used to create a function. \n",
    "#A function is created to return a list of odd numbers in the range of 1 to 25. \n",
    "#In that case function argument, n=25\n",
    "def odd_numbers(n):\n",
    "    odd_list=[]\n",
    "    for num in range(1,n+1):\n",
    "        if num%2==1:\n",
    "            odd_list.append(num)\n",
    "    print(odd_list)"
   ]
  },
  {
   "cell_type": "code",
   "execution_count": 43,
   "id": "e9968c17-580b-420c-beef-f9d506a97eab",
   "metadata": {},
   "outputs": [
    {
     "name": "stdout",
     "output_type": "stream",
     "text": [
      "[1, 3, 5, 7, 9, 11, 13, 15, 17, 19, 21, 23, 25]\n"
     ]
    }
   ],
   "source": [
    "odd_numbers(25)"
   ]
  },
  {
   "cell_type": "code",
   "execution_count": 44,
   "id": "10dc9b11-7188-41d9-9dee-d2a42cef958f",
   "metadata": {},
   "outputs": [],
   "source": [
    "# Q.2) *args is used to pass multiple(more than 1) data in the function in the form of iteger, float, string, list etc. alone or in combination. In a function *args always gives output of function as tuple.\n",
    "# **kwargs is used to pass multiple data(key, value pair) in the function to create a dictionary. Result of the function shows dictionary as output.\n",
    "\n",
    "def star_args(*args):\n",
    "    return args"
   ]
  },
  {
   "cell_type": "code",
   "execution_count": 53,
   "id": "50704730-97a9-47e8-b4d8-6cf3bfe7274f",
   "metadata": {},
   "outputs": [
    {
     "data": {
      "text/plain": [
       "(1, 2, 3.1, 'Surajit', [2, 0, 3, 1], (1, 2))"
      ]
     },
     "execution_count": 53,
     "metadata": {},
     "output_type": "execute_result"
    }
   ],
   "source": [
    "star_args(1,2,3.1,\"Surajit\",[2,0,3,1],(1,2))"
   ]
  },
  {
   "cell_type": "code",
   "execution_count": 48,
   "id": "c1258203-0e5d-4d88-9db6-a55ec1c2f94b",
   "metadata": {},
   "outputs": [],
   "source": [
    "def double_star_kwargs(**kwargs):\n",
    "    return kwargs"
   ]
  },
  {
   "cell_type": "code",
   "execution_count": 52,
   "id": "7f9cf875-ac00-4f89-9695-1b98e25c30a2",
   "metadata": {},
   "outputs": [
    {
     "data": {
      "text/plain": [
       "{'Name': 'Surajit', 'course': 'Data Science', 'Duration_in_mnths': 8}"
      ]
     },
     "execution_count": 52,
     "metadata": {},
     "output_type": "execute_result"
    }
   ],
   "source": [
    "double_star_kwargs(Name=\"Surajit\",course=\"Data Science\",Duration_in_mnths=8)"
   ]
  },
  {
   "cell_type": "code",
   "execution_count": 62,
   "id": "3628def4-059e-4e06-af39-26980a0ab172",
   "metadata": {},
   "outputs": [
    {
     "name": "stdout",
     "output_type": "stream",
     "text": [
      "2\n",
      "4\n",
      "6\n",
      "8\n",
      "10\n"
     ]
    }
   ],
   "source": [
    "# # Q.3) In Python, an iterator is an object that allows you to traverse through a sequence of values, such as a list or a tuple. \n",
    "# An iterator is an object that implements the iterator protocol, which consists of two methods:\n",
    "\n",
    "# __iter__() method: This method returns the iterator object itself. This is required to allow the iterator to be used in a for loop.\n",
    "\n",
    "# __next__() method: This method returns the next value from the iterator. If there are no more values to return, it should raise the StopIteration exception.\n",
    "\n",
    "l=[2,4,6,8,10,12,14,16,18,20]\n",
    "l1=iter(l)\n",
    "for i in range(5):\n",
    "    print(next(l1))"
   ]
  },
  {
   "cell_type": "code",
   "execution_count": null,
   "id": "bab59f8d-00ca-407d-9a1b-c812663b7c14",
   "metadata": {},
   "outputs": [],
   "source": [
    "# Q.4) In Python, a generator is a function that returns an iterator that produces a sequence of values when iterated over.\n",
    "\n",
    "# Generators are useful when we want to produce a large sequence of values, but we don't want to store all of them in memory at once.\n",
    "\n",
    "# The yield keyword is used to produce a value from the generator and pause the generator function's execution until the next value is requested."
   ]
  },
  {
   "cell_type": "code",
   "execution_count": 6,
   "id": "b8703404-716a-44d0-95f6-ea9bc3c0cd90",
   "metadata": {},
   "outputs": [],
   "source": [
    "def mygenerator():\n",
    "    print('Rank 1:')\n",
    "    yield 'Rohan'\n",
    "\n",
    "    print('Rank 2:')\n",
    "    yield 'Mohan'\n",
    "\n",
    "    print('Rank 3:')\n",
    "    yield 'Suman'"
   ]
  },
  {
   "cell_type": "code",
   "execution_count": 7,
   "id": "9195dd9b-088d-4ce2-9383-31bad4cf8fd5",
   "metadata": {},
   "outputs": [],
   "source": [
    "rank=mygenerator()"
   ]
  },
  {
   "cell_type": "code",
   "execution_count": 8,
   "id": "d8b63685-8936-4800-a56f-2b8e5d5ce49b",
   "metadata": {},
   "outputs": [
    {
     "name": "stdout",
     "output_type": "stream",
     "text": [
      "Rank 1:\n"
     ]
    },
    {
     "data": {
      "text/plain": [
       "'Rohan'"
      ]
     },
     "execution_count": 8,
     "metadata": {},
     "output_type": "execute_result"
    }
   ],
   "source": [
    "next(rank)"
   ]
  },
  {
   "cell_type": "code",
   "execution_count": 9,
   "id": "bae7b793-7d5e-48fb-8c06-8b34deffc358",
   "metadata": {},
   "outputs": [
    {
     "name": "stdout",
     "output_type": "stream",
     "text": [
      "Rank 2:\n"
     ]
    },
    {
     "data": {
      "text/plain": [
       "'Mohan'"
      ]
     },
     "execution_count": 9,
     "metadata": {},
     "output_type": "execute_result"
    }
   ],
   "source": [
    "next(rank)"
   ]
  },
  {
   "cell_type": "code",
   "execution_count": 10,
   "id": "fcd01a02-d8e3-4a65-a13c-f9ca3ae907bc",
   "metadata": {},
   "outputs": [
    {
     "name": "stdout",
     "output_type": "stream",
     "text": [
      "Rank 3:\n"
     ]
    },
    {
     "data": {
      "text/plain": [
       "'Suman'"
      ]
     },
     "execution_count": 10,
     "metadata": {},
     "output_type": "execute_result"
    }
   ],
   "source": [
    "next(rank)"
   ]
  },
  {
   "cell_type": "code",
   "execution_count": 11,
   "id": "47c4cefa-ea70-4452-be24-0ff402149854",
   "metadata": {},
   "outputs": [
    {
     "ename": "StopIteration",
     "evalue": "",
     "output_type": "error",
     "traceback": [
      "\u001b[0;31m---------------------------------------------------------------------------\u001b[0m",
      "\u001b[0;31mStopIteration\u001b[0m                             Traceback (most recent call last)",
      "Cell \u001b[0;32mIn[11], line 1\u001b[0m\n\u001b[0;32m----> 1\u001b[0m \u001b[38;5;28;43mnext\u001b[39;49m\u001b[43m(\u001b[49m\u001b[43mrank\u001b[49m\u001b[43m)\u001b[49m\n",
      "\u001b[0;31mStopIteration\u001b[0m: "
     ]
    }
   ],
   "source": [
    "next(rank) #This was the last rank in the generator function. So it will give below error."
   ]
  },
  {
   "cell_type": "code",
   "execution_count": 3,
   "id": "40b400df-99fb-4914-bcd8-a0273200782e",
   "metadata": {},
   "outputs": [],
   "source": [
    "# Q.5) Creating generator function for prime numbers less than 1000. \n",
    "def prime_generator(n):\n",
    "    for num in range(n):\n",
    "        if num>1:\n",
    "            for i in range(2,num):\n",
    "                if num%i==0:\n",
    "                    break\n",
    "            else:\n",
    "                yield num\n"
   ]
  },
  {
   "cell_type": "code",
   "execution_count": 34,
   "id": "8f064bef-b394-4116-b48a-539e3354dd5e",
   "metadata": {},
   "outputs": [],
   "source": [
    "prime=prime_generator(1000)"
   ]
  },
  {
   "cell_type": "code",
   "execution_count": 35,
   "id": "656cd2b0-67e5-47b7-82cc-e167e5790eba",
   "metadata": {},
   "outputs": [
    {
     "name": "stdout",
     "output_type": "stream",
     "text": [
      "2\n",
      "3\n",
      "5\n",
      "7\n",
      "11\n",
      "13\n",
      "17\n",
      "19\n",
      "23\n",
      "29\n",
      "31\n",
      "37\n",
      "41\n",
      "43\n",
      "47\n",
      "53\n",
      "59\n",
      "61\n",
      "67\n",
      "71\n"
     ]
    }
   ],
   "source": [
    "for i in range(20):\n",
    "    print(next(prime))"
   ]
  },
  {
   "cell_type": "code",
   "execution_count": 2,
   "id": "f3deca78-7826-48b9-82c5-5b1fb7f5de31",
   "metadata": {},
   "outputs": [
    {
     "name": "stdout",
     "output_type": "stream",
     "text": [
      "0\n",
      "1\n",
      "1\n",
      "2\n",
      "3\n",
      "5\n",
      "8\n",
      "13\n",
      "21\n",
      "34\n"
     ]
    }
   ],
   "source": [
    "# Q.6 To print the first 10 Fibonacci numbers using while loop\n",
    "a,b=0,1\n",
    "count=0\n",
    "while count<10:\n",
    "    print(a)\n",
    "    a,b=b,a+b \n",
    "    count=count+1"
   ]
  },
  {
   "cell_type": "code",
   "execution_count": 82,
   "id": "c5c6eb55-01d5-4716-8bf4-e1e71d2847bc",
   "metadata": {},
   "outputs": [
    {
     "data": {
      "text/plain": [
       "['p', 'w', 's', 'k', 'i', 'l', 'l', 's']"
      ]
     },
     "execution_count": 82,
     "metadata": {},
     "output_type": "execute_result"
    }
   ],
   "source": [
    "# Q.7) Write a list comprehension to iterate through the given string: 'pwskills'\n",
    "s=\"pwskills\"\n",
    "s1=iter(s)\n",
    "iter_str=[x for x in s1]\n",
    "iter_str"
   ]
  },
  {
   "cell_type": "code",
   "execution_count": 83,
   "id": "521e23f2-fa86-46b6-8fed-8ea4596627f7",
   "metadata": {},
   "outputs": [
    {
     "name": "stdin",
     "output_type": "stream",
     "text": [
      "Enter a number: 12321\n"
     ]
    },
    {
     "name": "stdout",
     "output_type": "stream",
     "text": [
      "The number is palindrome!\n"
     ]
    }
   ],
   "source": [
    "# Q.8) PProgram to check a given number is Palindrome or not\n",
    "num=int(input(\"Enter a number:\"))\n",
    "temp=num\n",
    "rev=0\n",
    "while(num>0):\n",
    "    dig=num%10\n",
    "    rev=rev*10+dig\n",
    "    num=num//10\n",
    "if(temp==rev):\n",
    "    print(\"The number is palindrome!\")\n",
    "else:\n",
    "    print(\"Not a palindrome!\")"
   ]
  },
  {
   "cell_type": "code",
   "execution_count": 1,
   "id": "a180d943-4387-4617-9636-114f0dab74b3",
   "metadata": {},
   "outputs": [
    {
     "data": {
      "text/plain": [
       "[1,\n",
       " 3,\n",
       " 5,\n",
       " 7,\n",
       " 9,\n",
       " 11,\n",
       " 13,\n",
       " 15,\n",
       " 17,\n",
       " 19,\n",
       " 21,\n",
       " 23,\n",
       " 25,\n",
       " 27,\n",
       " 29,\n",
       " 31,\n",
       " 33,\n",
       " 35,\n",
       " 37,\n",
       " 39,\n",
       " 41,\n",
       " 43,\n",
       " 45,\n",
       " 47,\n",
       " 49,\n",
       " 51,\n",
       " 53,\n",
       " 55,\n",
       " 57,\n",
       " 59,\n",
       " 61,\n",
       " 63,\n",
       " 65,\n",
       " 67,\n",
       " 69,\n",
       " 71,\n",
       " 73,\n",
       " 75,\n",
       " 77,\n",
       " 79,\n",
       " 81,\n",
       " 83,\n",
       " 85,\n",
       " 87,\n",
       " 89,\n",
       " 91,\n",
       " 93,\n",
       " 95,\n",
       " 97,\n",
       " 99]"
      ]
     },
     "execution_count": 1,
     "metadata": {},
     "output_type": "execute_result"
    }
   ],
   "source": [
    "# Q.9) Code to print odd numbers from 1 to 100 using list comprehension\n",
    "l=[x for x in range(1,101)]\n",
    "l1=[y for y in l if y%2==1]\n",
    "l1"
   ]
  },
  {
   "cell_type": "code",
   "execution_count": 74,
   "id": "776bfa8f-eaea-4ca0-aa49-30ca59c52c16",
   "metadata": {},
   "outputs": [],
   "source": []
  }
 ],
 "metadata": {
  "kernelspec": {
   "display_name": "Python 3 (ipykernel)",
   "language": "python",
   "name": "python3"
  },
  "language_info": {
   "codemirror_mode": {
    "name": "ipython",
    "version": 3
   },
   "file_extension": ".py",
   "mimetype": "text/x-python",
   "name": "python",
   "nbconvert_exporter": "python",
   "pygments_lexer": "ipython3",
   "version": "3.10.8"
  }
 },
 "nbformat": 4,
 "nbformat_minor": 5
}
